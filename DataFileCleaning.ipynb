{
 "cells": [
  {
   "cell_type": "code",
   "execution_count": 1,
   "metadata": {},
   "outputs": [
    {
     "name": "stdout",
     "output_type": "stream",
     "text": [
      "C:\\Users\\George\\Desktop\\scout - Copy\n",
      "scout_326587_000001.txt is a continuation of another file of the same run. \n",
      "scout_327146_000000.txt is EMPTY\n",
      "scout_327375_000000.txt is EMPTY\n",
      "scout_327377_000000.txt is EMPTY\n"
     ]
    }
   ],
   "source": [
    "#Original code for this cell at https://github.com/theofil/dscout/blob/master/analysis/exampleAnalysis.ipynb\n",
    "import numpy as np\n",
    "import pandas as pd\n",
    "import matplotlib.pyplot as plt\n",
    "import seaborn as sns\n",
    "import os\n",
    "import subprocess\n",
    "import bz2\n",
    "\n",
    "\n",
    "plt.rc('font', size=15)\n",
    "\n",
    "\n",
    "\n",
    "# data files\n",
    "path = './data/hiion/' \n",
    "files = os.listdir(path)\n",
    "files = [f for f in files if 'monitor' not in f]\n",
    "\n",
    "# getrunNumber from string e.g., int('/data/hiion/scout_326676_000000.monitor.txt'.split('_')[1]\n",
    "getRun = lambda x: int(x.split('_')[1])\n",
    "\n",
    "\n",
    "default_line = 'orbit,bx,phi,eta,pt,charge'\n",
    "\n",
    "print(os.path.dirname(os.path.abspath(files[0]))) # print path for safety\n",
    "\n",
    "files_to_delete = []\n",
    "\n",
    "for i in range(len(files)):\n",
    "    \n",
    "    with open(os.path.join(path, files[i]), 'r') as file:\n",
    "        \n",
    "        file.seek(0)\n",
    "        x=file.read(len(default_line + '\\n'))\n",
    "        file.seek(0)\n",
    "        y=file.read(len(default_line + '\\n')+1)\n",
    "        file.seek(0)\n",
    "        \n",
    "        if x.strip(\"\\n\") == y.strip(\"\\n\"):              #checks if there is only the default line 'orbit,bx,phi,eta,pt,charge\\n'\n",
    "            \n",
    "            files_to_delete.append(files[i])\n",
    "            print(files[i] + ' is EMPTY')\n",
    "            \n",
    "        elif i>0 and getRun(files[i]) == getRun(files[i-1]):\n",
    "            \n",
    "            with open(os.path.join(path, files[i-1]), 'a') as oldfile:\n",
    "                for line in file:\n",
    "                    if line.strip(\"\\n\") != default_line :\n",
    "                        oldfile.write(line)\n",
    "                        \n",
    "            files_to_delete.append(files[i])\n",
    "            print(files[i] + ' is a continuation of another file of the same run. ')"
   ]
  },
  {
   "cell_type": "code",
   "execution_count": 2,
   "metadata": {},
   "outputs": [
    {
     "name": "stdout",
     "output_type": "stream",
     "text": [
      "Deleting  scout_326587_000001.txt\n",
      "Deleting  scout_327146_000000.txt\n",
      "Deleting  scout_327375_000000.txt\n",
      "Deleting  scout_327377_000000.txt\n"
     ]
    }
   ],
   "source": [
    "for f in files_to_delete:\n",
    "    if len(files_to_delete)>0:\n",
    "        if os.path.exists(os.path.join(path, f)):\n",
    "            print('Deleting  '+ f)\n",
    "            os.remove(os.path.join(path, f))\n",
    "        else:\n",
    "            print(\"The \"+ f + \"file does not exist\")"
   ]
  },
  {
   "cell_type": "code",
   "execution_count": null,
   "metadata": {},
   "outputs": [],
   "source": []
  }
 ],
 "metadata": {
  "kernelspec": {
   "display_name": "Python 3",
   "language": "python",
   "name": "python3"
  },
  "language_info": {
   "codemirror_mode": {
    "name": "ipython",
    "version": 3
   },
   "file_extension": ".py",
   "mimetype": "text/x-python",
   "name": "python",
   "nbconvert_exporter": "python",
   "pygments_lexer": "ipython3",
   "version": "3.7.3"
  }
 },
 "nbformat": 4,
 "nbformat_minor": 2
}
