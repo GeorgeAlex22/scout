{
 "cells": [
  {
   "cell_type": "code",
   "execution_count": 2,
   "metadata": {},
   "outputs": [],
   "source": [
    "#Original code for this cell at https://github.com/theofil/dscout/blob/master/analysis/exampleAnalysis.ipynb\n",
    "import numpy as np\n",
    "import pandas as pd\n",
    "import matplotlib.pyplot as plt\n",
    "import seaborn as sns\n",
    "import os\n",
    "import subprocess\n",
    "import bz2\n",
    "%matplotlib inline\n",
    "\n",
    "plt.rc('font', size=15)\n",
    "\n",
    "\n",
    "\n",
    "# data files\n",
    "path = './data/hiion/' #  The files in this path have been manually processed (removed empty files, and merged a run with two parts into one)\n",
    "files = os.listdir(path)\n",
    "files = [f for f in files if 'monitor' not in f]\n",
    "\n",
    "# getrunNumber from string e.g., int('/data/hiion/scout_326676_000000.monitor.txt'.split('_')[1]\n",
    "getRun = lambda x: int(x.split('_')[1])\n",
    "\n",
    "\n",
    "\n",
    "# list to hold dataframes\n",
    "dfs = []\n",
    "runIndex= []\n",
    "\n",
    "for file in files:\n",
    "    filepath = path+file\n",
    "    df = pd.read_csv(filepath)\n",
    "    \n",
    "  \n",
    "    # add a column with the run number\n",
    "    df['run'] = getRun(file) \n",
    "    dfs += [df]\n",
    "    \n",
    "    #make in index with the run numbers\n",
    "    runIndex += [getRun(file)]\n",
    "plt.rc('figure', max_open_warning = 100)\n",
    "\n",
    "\n"
   ]
  },
  {
   "cell_type": "code",
   "execution_count": 3,
   "metadata": {},
   "outputs": [
    {
     "name": "stderr",
     "output_type": "stream",
     "text": [
      "C:\\ProgramData\\Anaconda3\\lib\\site-packages\\ipykernel_launcher.py:9: SettingWithCopyWarning: \n",
      "A value is trying to be set on a copy of a slice from a DataFrame\n",
      "\n",
      "See the caveats in the documentation: http://pandas.pydata.org/pandas-docs/stable/indexing.html#indexing-view-versus-copy\n",
      "  if __name__ == '__main__':\n"
     ]
    }
   ],
   "source": [
    "#Fix the runs where the orbit number resets (the warning does not matter)\n",
    "\n",
    "for df in dfs:\n",
    "    if not df['orbit'].is_monotonic:\n",
    "        for i in range(1,len(df)):\n",
    "            if df['orbit'][i-1]>df['orbit'][i]:\n",
    "                tmp = i-1\n",
    "                break\n",
    "        df['orbit'][tmp+1:] = df['orbit'][tmp] + df['orbit'][tmp+1:]\n",
    "            "
   ]
  },
  {
   "cell_type": "code",
   "execution_count": 4,
   "metadata": {},
   "outputs": [],
   "source": [
    "badruns = [0, 1, 4, 8, 9, 11, 28, 30, 33, 34, 35, 36, 39, 46, 47, 50,  57, 65, 68, 69, 70, 72, 77, 78]\n",
    "goodruns = [i for i in range(len(dfs)) if i not in badruns]"
   ]
  },
  {
   "cell_type": "code",
   "execution_count": 5,
   "metadata": {},
   "outputs": [],
   "source": [
    "dfg = [] #data frame with only goodruns\n",
    "\n",
    "for i in range(len(dfs)):\n",
    "    if i in goodruns : dfg.append(dfs[i])"
   ]
  },
  {
   "cell_type": "code",
   "execution_count": 6,
   "metadata": {},
   "outputs": [],
   "source": [
    "# Make every df start at 1\n",
    "for df in dfg:\n",
    "    df['orbit'] = df['orbit'] - df['orbit'][0] + 1"
   ]
  },
  {
   "cell_type": "code",
   "execution_count": 7,
   "metadata": {},
   "outputs": [],
   "source": [
    "for j in range(1, len(dfg)):\n",
    "    dfg[j]['orbit']+=dfg[j-1]['orbit'].tolist()[-1]"
   ]
  },
  {
   "cell_type": "code",
   "execution_count": 8,
   "metadata": {},
   "outputs": [],
   "source": [
    "merged = pd.concat(dfg, ignore_index=True, sort=False)\n"
   ]
  },
  {
   "cell_type": "code",
   "execution_count": 9,
   "metadata": {},
   "outputs": [],
   "source": [
    "# merged.to_csv(path_or_buf=\"merged.txt\", index=False ) \n",
    "# # so that someone else can intstant access to the data without running this code"
   ]
  },
  {
   "cell_type": "markdown",
   "metadata": {},
   "source": [
    "# Two - Leg Muon filtering"
   ]
  },
  {
   "cell_type": "code",
   "execution_count": 10,
   "metadata": {},
   "outputs": [],
   "source": [
    "def pairing(df, x):\n",
    "    dfns = df.shift(-x)\n",
    "    dfps = df.shift(+x)\n",
    "\n",
    "    logicOS1 = (df.bx == dfns.bx - x) & (df.orbit == dfns.orbit) & (df.charge*dfns.charge < 0)\n",
    "    OS1 = df[logicOS1].copy()\n",
    "\n",
    "    logicOS2 = (df.bx == dfps.bx + x) & (df.orbit == dfps.orbit) & (df.charge*dfps.charge < 0)\n",
    "    OS2 = df[logicOS2].copy()\n",
    "\n",
    "    OS1 = OS1.reset_index()\n",
    "    OS2 = OS2.reset_index()\n",
    "\n",
    "    OS = OS1.merge(OS2, left_on=OS1.index, right_on=OS2.index, suffixes=('_in', '_out'))\n",
    "\n",
    "    logicSS1 = (df.bx == dfns.bx - x) & (df.orbit == dfns.orbit) & (df.charge*dfns.charge > 0)\n",
    "    SS1 = df[logicSS1].copy()\n",
    "\n",
    "    logicSS2 = (df.bx == dfps.bx + x) & (df.orbit == dfps.orbit) & (df.charge*dfps.charge > 0)\n",
    "    SS2 = df[logicSS2].copy()\n",
    "\n",
    "    SS1 = SS1.reset_index()\n",
    "    SS2 = SS2.reset_index()\n",
    "\n",
    "    SS = SS1.merge(SS2, left_on=SS1.index, right_on=SS2.index, suffixes=('_in', '_out'))\n",
    "\n",
    "    # slim the dataframes\n",
    "    def slimDataFrame(df):\n",
    "        df = df.drop(['run_in', 'index_in','index_out','key_0','orbit_out'], axis=1)\n",
    "        df = df.rename(columns = {'run_out':'run','orbit_in':'orbit'})\n",
    "        if False: df = df.set_index(['run','orbit','bx_in'])\n",
    "        return df\n",
    "\n",
    "    OS = slimDataFrame(OS)\n",
    "    SS = slimDataFrame(SS)\n",
    "    return (OS, SS)"
   ]
  },
  {
   "cell_type": "code",
   "execution_count": 11,
   "metadata": {},
   "outputs": [],
   "source": [
    "OS, SS = pairing(merged, 1)\n"
   ]
  },
  {
   "cell_type": "code",
   "execution_count": 14,
   "metadata": {},
   "outputs": [
    {
     "data": {
      "text/plain": [
       "0.08033430267706723"
      ]
     },
     "execution_count": 14,
     "metadata": {},
     "output_type": "execute_result"
    }
   ],
   "source": [
    "len(OS)/len(merged)"
   ]
  },
  {
   "cell_type": "code",
   "execution_count": 15,
   "metadata": {},
   "outputs": [
    {
     "data": {
      "text/html": [
       "<div>\n",
       "<style scoped>\n",
       "    .dataframe tbody tr th:only-of-type {\n",
       "        vertical-align: middle;\n",
       "    }\n",
       "\n",
       "    .dataframe tbody tr th {\n",
       "        vertical-align: top;\n",
       "    }\n",
       "\n",
       "    .dataframe thead th {\n",
       "        text-align: right;\n",
       "    }\n",
       "</style>\n",
       "<table border=\"1\" class=\"dataframe\">\n",
       "  <thead>\n",
       "    <tr style=\"text-align: right;\">\n",
       "      <th></th>\n",
       "      <th>orbit</th>\n",
       "      <th>bx_in</th>\n",
       "      <th>phi_in</th>\n",
       "      <th>eta_in</th>\n",
       "      <th>pt_in</th>\n",
       "      <th>charge_in</th>\n",
       "      <th>bx_out</th>\n",
       "      <th>phi_out</th>\n",
       "      <th>eta_out</th>\n",
       "      <th>pt_out</th>\n",
       "      <th>charge_out</th>\n",
       "      <th>run</th>\n",
       "    </tr>\n",
       "  </thead>\n",
       "  <tbody>\n",
       "    <tr>\n",
       "      <th>0</th>\n",
       "      <td>41208</td>\n",
       "      <td>3458</td>\n",
       "      <td>2.39983</td>\n",
       "      <td>0.000000</td>\n",
       "      <td>4.0</td>\n",
       "      <td>-1</td>\n",
       "      <td>3459</td>\n",
       "      <td>-1.15628</td>\n",
       "      <td>0.80475</td>\n",
       "      <td>3.5</td>\n",
       "      <td>1</td>\n",
       "      <td>326305</td>\n",
       "    </tr>\n",
       "    <tr>\n",
       "      <th>1</th>\n",
       "      <td>86938</td>\n",
       "      <td>3481</td>\n",
       "      <td>1.09083</td>\n",
       "      <td>-0.511125</td>\n",
       "      <td>16.5</td>\n",
       "      <td>1</td>\n",
       "      <td>3482</td>\n",
       "      <td>-1.45081</td>\n",
       "      <td>-0.76125</td>\n",
       "      <td>17.5</td>\n",
       "      <td>-1</td>\n",
       "      <td>326305</td>\n",
       "    </tr>\n",
       "    <tr>\n",
       "      <th>2</th>\n",
       "      <td>98659</td>\n",
       "      <td>3511</td>\n",
       "      <td>1.12356</td>\n",
       "      <td>0.511125</td>\n",
       "      <td>2.5</td>\n",
       "      <td>1</td>\n",
       "      <td>3512</td>\n",
       "      <td>-2.00713</td>\n",
       "      <td>-0.45675</td>\n",
       "      <td>38.0</td>\n",
       "      <td>-1</td>\n",
       "      <td>326305</td>\n",
       "    </tr>\n",
       "    <tr>\n",
       "      <th>3</th>\n",
       "      <td>106772</td>\n",
       "      <td>3458</td>\n",
       "      <td>1.84350</td>\n",
       "      <td>0.511125</td>\n",
       "      <td>139.5</td>\n",
       "      <td>1</td>\n",
       "      <td>3459</td>\n",
       "      <td>-1.02538</td>\n",
       "      <td>0.80475</td>\n",
       "      <td>139.5</td>\n",
       "      <td>-1</td>\n",
       "      <td>326305</td>\n",
       "    </tr>\n",
       "    <tr>\n",
       "      <th>4</th>\n",
       "      <td>122121</td>\n",
       "      <td>3476</td>\n",
       "      <td>2.17075</td>\n",
       "      <td>0.804750</td>\n",
       "      <td>3.5</td>\n",
       "      <td>1</td>\n",
       "      <td>3477</td>\n",
       "      <td>-1.61443</td>\n",
       "      <td>0.80475</td>\n",
       "      <td>3.5</td>\n",
       "      <td>-1</td>\n",
       "      <td>326305</td>\n",
       "    </tr>\n",
       "  </tbody>\n",
       "</table>\n",
       "</div>"
      ],
      "text/plain": [
       "    orbit  bx_in   phi_in    eta_in  pt_in  charge_in  bx_out  phi_out  \\\n",
       "0   41208   3458  2.39983  0.000000    4.0         -1    3459 -1.15628   \n",
       "1   86938   3481  1.09083 -0.511125   16.5          1    3482 -1.45081   \n",
       "2   98659   3511  1.12356  0.511125    2.5          1    3512 -2.00713   \n",
       "3  106772   3458  1.84350  0.511125  139.5          1    3459 -1.02538   \n",
       "4  122121   3476  2.17075  0.804750    3.5          1    3477 -1.61443   \n",
       "\n",
       "   eta_out  pt_out  charge_out     run  \n",
       "0  0.80475     3.5           1  326305  \n",
       "1 -0.76125    17.5          -1  326305  \n",
       "2 -0.45675    38.0          -1  326305  \n",
       "3  0.80475   139.5          -1  326305  \n",
       "4  0.80475     3.5          -1  326305  "
      ]
     },
     "execution_count": 15,
     "metadata": {},
     "output_type": "execute_result"
    }
   ],
   "source": [
    "OS.head()"
   ]
  },
  {
   "cell_type": "code",
   "execution_count": 13,
   "metadata": {},
   "outputs": [],
   "source": [
    "OS.to_csv(path_or_buf=\"twoleg.txt\", index=False ) \n",
    "# so that someone else can intstant access to the data without running this code"
   ]
  },
  {
   "cell_type": "code",
   "execution_count": null,
   "metadata": {},
   "outputs": [],
   "source": []
  }
 ],
 "metadata": {
  "kernelspec": {
   "display_name": "Python 3",
   "language": "python",
   "name": "python3"
  },
  "language_info": {
   "codemirror_mode": {
    "name": "ipython",
    "version": 3
   },
   "file_extension": ".py",
   "mimetype": "text/x-python",
   "name": "python",
   "nbconvert_exporter": "python",
   "pygments_lexer": "ipython3",
   "version": "3.7.3"
  }
 },
 "nbformat": 4,
 "nbformat_minor": 2
}
