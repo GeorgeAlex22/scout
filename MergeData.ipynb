{
 "cells": [
  {
   "cell_type": "code",
   "execution_count": 1,
   "metadata": {},
   "outputs": [],
   "source": [
    "#Original code for this cell at https://github.com/theofil/dscout/blob/master/analysis/exampleAnalysis.ipynb\n",
    "import numpy as np\n",
    "import pandas as pd\n",
    "import matplotlib.pyplot as plt\n",
    "import seaborn as sns\n",
    "import os\n",
    "import subprocess\n",
    "import bz2\n",
    "%matplotlib inline\n",
    "\n",
    "plt.rc('font', size=15)\n",
    "\n",
    "\n",
    "\n",
    "# data files\n",
    "path = './data/hiion/' #  The files in this path have been manually processed (removed empty files, and merged a run with two parts into one)\n",
    "files = os.listdir(path)\n",
    "files = [f for f in files if 'monitor' not in f]\n",
    "\n",
    "# getrunNumber from string e.g., int('/data/hiion/scout_326676_000000.monitor.txt'.split('_')[1]\n",
    "getRun = lambda x: int(x.split('_')[1])\n",
    "\n",
    "\n",
    "\n",
    "# list to hold dataframes\n",
    "dfs = []\n",
    "runIndex= []\n",
    "\n",
    "for file in files:\n",
    "    filepath = path+file\n",
    "    df = pd.read_csv(filepath)\n",
    "    \n",
    "  \n",
    "    # add a column with the run number\n",
    "    df['run'] = getRun(file) \n",
    "    dfs += [df]\n",
    "    \n",
    "    #make in index with the run numbers\n",
    "    runIndex += [getRun(file)]\n",
    "plt.rc('figure', max_open_warning = 100)\n",
    "\n",
    "\n"
   ]
  },
  {
   "cell_type": "code",
   "execution_count": 2,
   "metadata": {},
   "outputs": [
    {
     "name": "stderr",
     "output_type": "stream",
     "text": [
      "C:\\ProgramData\\Anaconda3\\lib\\site-packages\\ipykernel_launcher.py:9: SettingWithCopyWarning: \n",
      "A value is trying to be set on a copy of a slice from a DataFrame\n",
      "\n",
      "See the caveats in the documentation: http://pandas.pydata.org/pandas-docs/stable/indexing.html#indexing-view-versus-copy\n",
      "  if __name__ == '__main__':\n"
     ]
    }
   ],
   "source": [
    "#Fix the runs where the orbit number resets (the warning does not matter)\n",
    "\n",
    "for df in dfs:\n",
    "    if not df['orbit'].is_monotonic:\n",
    "        for i in range(1,len(df)):\n",
    "            if df['orbit'][i-1]>df['orbit'][i]:\n",
    "                tmp = i-1\n",
    "                break\n",
    "        df['orbit'][tmp+1:] = df['orbit'][tmp] + df['orbit'][tmp+1:]\n",
    "            "
   ]
  },
  {
   "cell_type": "code",
   "execution_count": 3,
   "metadata": {},
   "outputs": [],
   "source": [
    "badruns = [0, 1, 4, 8, 9, 11, 28, 30, 33, 34, 35, 36, 39, 46, 47, 50,  57, 65, 68, 69, 70, 72, 77, 78]\n",
    "goodruns = [i for i in range(len(dfs)) if i not in badruns]"
   ]
  },
  {
   "cell_type": "code",
   "execution_count": 4,
   "metadata": {},
   "outputs": [],
   "source": [
    "dfg = [] #data frame with only goodruns\n",
    "\n",
    "for i in range(len(dfs)):\n",
    "    if i in goodruns : dfg.append(dfs[i])"
   ]
  },
  {
   "cell_type": "code",
   "execution_count": 6,
   "metadata": {},
   "outputs": [],
   "source": [
    "# Make every df start at 1\n",
    "for df in dfg:\n",
    "    df['orbit'] = df['orbit'] - df['orbit'][0] + 1"
   ]
  },
  {
   "cell_type": "code",
   "execution_count": 7,
   "metadata": {},
   "outputs": [],
   "source": [
    "for j in range(1, len(dfg)):\n",
    "    dfg[j]['orbit']+=dfg[j-1]['orbit'].tolist()[-1]"
   ]
  },
  {
   "cell_type": "code",
   "execution_count": 8,
   "metadata": {},
   "outputs": [],
   "source": [
    "merged = pd.concat(dfg, ignore_index=True, sort=False)\n"
   ]
  },
  {
   "cell_type": "code",
   "execution_count": 9,
   "metadata": {},
   "outputs": [],
   "source": [
    "merged.to_csv(path_or_buf=\"merged.txt\", index=False ) \n",
    "# so that someone else can intstant access to the data without running this code"
   ]
  }
 ],
 "metadata": {
  "kernelspec": {
   "display_name": "Python 3",
   "language": "python",
   "name": "python3"
  },
  "language_info": {
   "codemirror_mode": {
    "name": "ipython",
    "version": 3
   },
   "file_extension": ".py",
   "mimetype": "text/x-python",
   "name": "python",
   "nbconvert_exporter": "python",
   "pygments_lexer": "ipython3",
   "version": "3.7.3"
  }
 },
 "nbformat": 4,
 "nbformat_minor": 2
}
