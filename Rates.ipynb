{
 "cells": [
  {
   "cell_type": "code",
   "execution_count": 6,
   "metadata": {},
   "outputs": [],
   "source": [
    "#Original code for this cell at https://github.com/theofil/dscout/blob/master/analysis/exampleAnalysis.ipynb\n",
    "import numpy as np\n",
    "import pandas as pd\n",
    "import matplotlib.pyplot as plt\n",
    "import seaborn as sns\n",
    "import os\n",
    "import subprocess\n",
    "import bz2\n",
    "\n",
    "\n",
    "plt.rc('font', size=15)\n",
    "\n",
    "\n",
    "\n",
    "# data files\n",
    "path = './data/hiion/'\n",
    "files = os.listdir(path)\n",
    "files = [f for f in files if 'monitor' not in f]\n",
    "\n",
    "# getrunNumber from string e.g., int('/data/hiion/scout_326676_000000.monitor.txt'.split('_')[1]\n",
    "getRun = lambda x: int(x.split('_')[1])\n",
    "\n",
    "\n",
    "\n",
    "# list to hold dataframes\n",
    "dfs = []\n",
    "runIndex= []\n",
    "\n",
    "for file in files:\n",
    "    filepath = path+file\n",
    "    df = pd.read_csv(filepath)\n",
    "    \n",
    "  \n",
    "    # add a column with the run number\n",
    "    df['run'] = getRun(file) \n",
    "    dfs += [df]\n",
    "    \n",
    "    #make in index with the run numbers\n",
    "    runIndex += [getRun(file)]\n",
    "plt.rc('figure', max_open_warning = 100)\n",
    "\n",
    "\n"
   ]
  },
  {
   "cell_type": "code",
   "execution_count": 7,
   "metadata": {},
   "outputs": [
    {
     "name": "stderr",
     "output_type": "stream",
     "text": [
      "C:\\ProgramData\\Anaconda3\\lib\\site-packages\\ipykernel_launcher.py:9: SettingWithCopyWarning: \n",
      "A value is trying to be set on a copy of a slice from a DataFrame\n",
      "\n",
      "See the caveats in the documentation: http://pandas.pydata.org/pandas-docs/stable/indexing.html#indexing-view-versus-copy\n",
      "  if __name__ == '__main__':\n"
     ]
    }
   ],
   "source": [
    "#Fix the runs where the orbit number resets (the warning does not matter)\n",
    "\n",
    "for df in dfs:\n",
    "    if df['orbit'].tolist().index(df['orbit'].max())< df['orbit'].tolist().index(df['orbit'].min()):\n",
    "        for i in range(len(df)):\n",
    "            if df['orbit'][i]>df['orbit'][i+1]:\n",
    "                tmp = i\n",
    "                break\n",
    "        df['orbit'][tmp+1:] = df['orbit'][tmp] + df['orbit'][tmp+1:]\n",
    "            "
   ]
  },
  {
   "cell_type": "code",
   "execution_count": 8,
   "metadata": {},
   "outputs": [],
   "source": [
    "badruns = [0, 1, 4, 8, 9, 11, 28, 30, 33, 34, 35, 36, 39, 46, 47, 50,  57, 65, 68, 69, 70, 72, 77, 78]\n",
    "goodruns = [i for i in range(len(dfs)) if i not in badruns]"
   ]
  },
  {
   "cell_type": "code",
   "execution_count": 9,
   "metadata": {},
   "outputs": [],
   "source": [
    "dfg = [] #data frame with only goodruns\n",
    "\n",
    "for i in range(len(dfs)):\n",
    "    if i in goodruns: dfg.append(dfs[i])"
   ]
  },
  {
   "cell_type": "code",
   "execution_count": 12,
   "metadata": {},
   "outputs": [],
   "source": [
    "merged = pd.concat(dfg, ignore_index=True, sort=False)"
   ]
  },
  {
   "cell_type": "code",
   "execution_count": null,
   "metadata": {},
   "outputs": [
    {
     "name": "stdout",
     "output_type": "stream",
     "text": [
      "timePerOrbit 2744.5 ns \n",
      "orbitsPerTimeUnit = 72873.019\n",
      "orbitMin 0 orbitMax 2108986\n",
      "nOrbits 2108986 \n",
      "total recording time 5788112077.0000 ns (~= 5.8 s)\n"
     ]
    }
   ],
   "source": [
    "# for each orbit, we dump in the CSV 110 BX's (= bxMax - bxMin) that 'sit' in the LHC abort gap (end of the train)\n",
    "# that is, each orbit in the CSV corresponds to 110*24.95 ns of active recorded time, due to our selection made \n",
    "# (we dump in CSV only a part of each orbit during the LHC abort gap)\n",
    "timePerOrbit = 110*24.95\n",
    "print('timePerOrbit %2.1f ns '%timePerOrbit)\n",
    "\n",
    "timeUnit = 0.2*1e9 # desired time unit in seconds\n",
    "orbitsPerTimeUnit = timeUnit/timePerOrbit\n",
    "print('orbitsPerTimeUnit = %2.3f'%orbitsPerTimeUnit)\n",
    "\n",
    "\n",
    "\n",
    "\n",
    "\n",
    "indxMin  = 0\n",
    "indxMax  = len(merged)-1\n",
    "rectime   = (indxMax-indxMin)*timePerOrbit # in ns\n",
    "print('orbitMin %d orbitMax %d'%(indxMin, indxMax))\n",
    "print('nOrbits %d '%(indxMax - indxMin))\n",
    "print('total recording time %2.4f ns (~= %2.1f s)' %(rectime, rectime*1.e-9))\n",
    "\n",
    "bins=int((indxMax-indxMin)/orbitsPerTimeUnit) \n",
    "timePerBin = rectime/bins\n",
    "\n",
    "muons=np.zeros(bins)\n",
    "sclice=np.array([indxMin+ ((indxMax-indxMin)/bins)*i for i in range(bins+1)])\n",
    "for orbit in merged['orbit']:\n",
    "    for i in range(bins):\n",
    "        if(orbit >= sclice[i] and orbit < sclice[i+1]): # note the >=, the = is needed to capture first orbit\n",
    "            muons[i]+=1\n",
    "        if(orbit == merged['orbit'][len(merged)-1] and orbit == sclice[i+1]): # note the ==, is needed to capture last orbit\n",
    "                                                        # last bin is [leftedge,rightedge] and not [leftedge,rightedge)\n",
    "                muons[i]+=1"
   ]
  },
  {
   "cell_type": "code",
   "execution_count": 13,
   "metadata": {},
   "outputs": [
    {
     "data": {
      "text/plain": [
       "129369    242177006\n",
       "129369    241768987\n",
       "129369    242167898\n",
       "129369    242354558\n",
       "129369    223753705\n",
       "Name: orbit, dtype: int64"
      ]
     },
     "execution_count": 13,
     "metadata": {},
     "output_type": "execute_result"
    }
   ],
   "source": []
  },
  {
   "cell_type": "code",
   "execution_count": null,
   "metadata": {},
   "outputs": [],
   "source": []
  }
 ],
 "metadata": {
  "kernelspec": {
   "display_name": "Python 3",
   "language": "python",
   "name": "python3"
  },
  "language_info": {
   "codemirror_mode": {
    "name": "ipython",
    "version": 3
   },
   "file_extension": ".py",
   "mimetype": "text/x-python",
   "name": "python",
   "nbconvert_exporter": "python",
   "pygments_lexer": "ipython3",
   "version": "3.7.3"
  }
 },
 "nbformat": 4,
 "nbformat_minor": 2
}
