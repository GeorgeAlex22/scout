{
 "cells": [
  {
   "cell_type": "code",
   "execution_count": 4,
   "metadata": {},
   "outputs": [
    {
     "name": "stderr",
     "output_type": "stream",
     "text": [
      "C:\\Users\\George\\Anaconda3\\lib\\site-packages\\ipykernel_launcher.py:59: SettingWithCopyWarning: \n",
      "A value is trying to be set on a copy of a slice from a DataFrame\n",
      "\n",
      "See the caveats in the documentation: http://pandas.pydata.org/pandas-docs/stable/indexing.html#indexing-view-versus-copy\n"
     ]
    }
   ],
   "source": [
    "# # \\\\\\\\\\\\\\\\\\\\\\\\\\\\\\\\\\\\\\\\\\\\\\\\\\\\\\\\\\\\\\\\\\\\\\\\\\\\\\\\\\\\\\\\\\\\\\\\\\\\\\\\\\\\\\\\\\\\\\\\\\\\\\\\\\\\\\\\\\\\\\\\\\\\\\\\\\\\\\\\\\\\\\\\\\\\\\\\\\\\\\\n",
    "# # \\\\                                                                                       \\\\ \n",
    "# # \\\\ THIS CELL SAVES THE GOODRUNS IN A SEPARATE FOLDER AFTER FIXING THE ORBIT NUMBER RESET \\\\\n",
    "# # \\\\                                     RUN ONCE                                          \\\\\n",
    "# # \\\\                                                                                       \\\\\n",
    "# # \\\\\\\\\\\\\\\\\\\\\\\\\\\\\\\\\\\\\\\\\\\\\\\\\\\\\\\\\\\\\\\\\\\\\\\\\\\\\\\\\\\\\\\\\\\\\\\\\\\\\\\\\\\\\\\\\\\\\\\\\\\\\\\\\\\\\\\\\\\\\\\\\\\\\\\\\\\\\\\\\\\\\\\\\\\\\\\\\\\\\\\n",
    "\n",
    "\n",
    "# #Original code for this cell at https://github.com/theofil/dscout/blob/master/analysis/exampleAnalysis.ipynb\n",
    "# import numpy as np\n",
    "# import pandas as pd\n",
    "# import matplotlib.pyplot as plt\n",
    "# import seaborn as sns\n",
    "# import os\n",
    "# import subprocess\n",
    "# import bz2\n",
    "# %matplotlib inline\n",
    "\n",
    "# plt.rc('font', size=15)\n",
    "\n",
    "\n",
    "\n",
    "# # data files\n",
    "# path = './data/hiion/' #  The files in this path have been manually processed (removed empty files, and merged a run with two parts into one)\n",
    "# files = os.listdir(path)\n",
    "# files = [f for f in files if 'monitor' not in f]\n",
    "\n",
    "# # getrunNumber from string e.g., int('/data/hiion/scout_326676_000000.monitor.txt'.split('_')[1]\n",
    "# getRun = lambda x: int(x.split('_')[1])\n",
    "\n",
    "\n",
    "\n",
    "# # list to hold dataframes\n",
    "# dfs = []\n",
    "# runIndex= []\n",
    "\n",
    "# for file in files:\n",
    "#     filepath = path+file\n",
    "#     df = pd.read_csv(filepath)\n",
    "    \n",
    "  \n",
    "#     # add a column with the run number\n",
    "#     df['run'] = getRun(file) \n",
    "#     dfs += [df]\n",
    "    \n",
    "#     #make in index with the run numbers\n",
    "#     runIndex += [getRun(file)]\n",
    "# plt.rc('figure', max_open_warning = 100)\n",
    "\n",
    "\n",
    "# #Fix the runs where the orbit number resets (the warning does not matter)\n",
    "\n",
    "# for df in dfs:\n",
    "#     if not df['orbit'].is_monotonic:\n",
    "#         for i in range(1,len(df)):\n",
    "#             if df['orbit'][i-1]>df['orbit'][i]:\n",
    "#                 tmp = i-1\n",
    "#                 break\n",
    "#         df['orbit'][tmp+1:] = df['orbit'][tmp] + df['orbit'][tmp+1:]\n",
    "\n",
    "        \n",
    "# badruns = [0, 1, 4, 8, 9, 11, 28, 30, 33, 34, 35, 36, 39, 46, 47, 50,  57, 65, 68, 69, 70, 72, 77, 78]\n",
    "# goodruns = [i for i in range(len(dfs)) if i not in badruns]\n",
    "\n",
    "# dfg = [] #data frame with only goodruns\n",
    "\n",
    "# for i in range(len(dfs)):\n",
    "#     if i in goodruns : dfg.append(dfs[i])\n",
    "        \n",
    "# for df in dfg:\n",
    "#     name = str(df['run'][0])+\".txt\"\n",
    "#     df.to_csv(\"./data/goodRuns/\"+name, index = False) # The folder goodRuns needs to be manually made"
   ]
  },
  {
   "cell_type": "code",
   "execution_count": 32,
   "metadata": {},
   "outputs": [],
   "source": [
    "import numpy as np\n",
    "import pandas as pd\n",
    "import matplotlib.pyplot as plt\n",
    "import os\n",
    "import time \n",
    "import datetime\n",
    "%matplotlib inline\n",
    "\n",
    "plt.rc('font', size=15)\n",
    "plt.rc('figure', max_open_warning = 100)\n",
    "\n",
    "# data files\n",
    "path = './data/goodRuns/' #  The files in this path have been manually processed (removed empty files, and merged a run with two parts into one)\n",
    "files = os.listdir(path)\n",
    "files = [f for f in files]\n",
    "\n",
    "# list to hold dataframes\n",
    "dfg = []\n",
    "\n",
    "timeUnit = 1 # in seconds\n",
    "\n",
    "for file in files:\n",
    "    filepath = path+file\n",
    "    df = pd.read_csv(filepath)\n",
    "    dfg.append(df)\n",
    "\n",
    "TimeLog = pd.read_csv(\"https://raw.githubusercontent.com/theofil/dscout/master/analysis/runsDateTimeLog.txt\",\n",
    "                      delimiter = ', ', engine = 'python')\n",
    "\n",
    "luminosity = [len(dfg[i]) for i in range(len(dfg))]\n",
    "\n",
    "duration = TimeLog['duration'].to_list()\n",
    "\n",
    "durationSecs = []\n",
    "for deltat in duration:\n",
    "    h, m, s=deltat.split(\":\")\n",
    "    durationSecs.append( datetime.timedelta(hours = int(h), minutes = int(m), seconds = int(s)).total_seconds())\n",
    "    \n",
    "luminosity = np.array(luminosity)\n",
    "durationSecs = np.array(durationSecs)\n",
    "rate = luminosity/durationSecs"
   ]
  },
  {
   "cell_type": "code",
   "execution_count": 43,
   "metadata": {},
   "outputs": [
    {
     "data": {
      "text/plain": [
       "<matplotlib.collections.PathCollection at 0x2d89369e5f8>"
      ]
     },
     "execution_count": 43,
     "metadata": {},
     "output_type": "execute_result"
    },
    {
     "data": {
      "image/png": "[encoded data removed]",
      "text/plain": [
       "<Figure size 432x288 with 1 Axes>"
      ]
     },
     "metadata": {
      "needs_background": "light"
     },
     "output_type": "display_data"
    }
   ],
   "source": [
    "plt.plot([i for i in  range(len(rate))], rate)\n",
    "plt.scatter([i for i in  range(len(rate))], rate)"
   ]
  },
  {
   "cell_type": "code",
   "execution_count": null,
   "metadata": {},
   "outputs": [],
   "source": []
  }
 ],
 "metadata": {
  "kernelspec": {
   "display_name": "Python 3",
   "language": "python",
   "name": "python3"
  },
  "language_info": {
   "codemirror_mode": {
    "name": "ipython",
    "version": 3
   },
   "file_extension": ".py",
   "mimetype": "text/x-python",
   "name": "python",
   "nbconvert_exporter": "python",
   "pygments_lexer": "ipython3",
   "version": "3.7.3"
  }
 },
 "nbformat": 4,
 "nbformat_minor": 2
}
