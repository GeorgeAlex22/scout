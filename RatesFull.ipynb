{
 "cells": [
  {
   "cell_type": "code",
   "execution_count": null,
   "metadata": {},
   "outputs": [],
   "source": [
    "#Original code for this cell at https://github.com/theofil/dscout/blob/master/analysis/exampleAnalysis.ipynb\n",
    "import numpy as np\n",
    "import pandas as pd\n",
    "import matplotlib.pyplot as plt\n",
    "import seaborn as sns\n",
    "import os\n",
    "import subprocess\n",
    "import bz2\n",
    "\n",
    "\n",
    "plt.rc('font', size=15)\n",
    "\n",
    "\n",
    "\n",
    "# data files\n",
    "path = './data/hiion/' #  The files in this path have been manually processed (removed empty files, and merged a run with two parts into one)\n",
    "#You can find the code for the file processing at https://github.com/GeorgeAlex22/scout/blob/master/DataFileCleaning.ipynb \n",
    "files = os.listdir(path)\n",
    "files = [f for f in files if 'monitor' not in f]\n",
    "\n",
    "# getrunNumber from string e.g., int('/data/hiion/scout_326676_000000.monitor.txt'.split('_')[1]\n",
    "getRun = lambda x: int(x.split('_')[1])\n",
    "\n",
    "\n",
    "\n",
    "# list to hold dataframes\n",
    "dfs = []\n",
    "runIndex= []\n",
    "\n",
    "for file in files:\n",
    "    filepath = path+file\n",
    "    df = pd.read_csv(filepath)\n",
    "    \n",
    "  \n",
    "    # add a column with the run number\n",
    "    df['run'] = getRun(file) \n",
    "    dfs += [df]\n",
    "    \n",
    "    #make in index with the run numbers\n",
    "    runIndex += [getRun(file)]\n",
    "plt.rc('figure', max_open_warning = 100)\n",
    "\n",
    "\n"
   ]
  },
  {
   "cell_type": "code",
   "execution_count": null,
   "metadata": {},
   "outputs": [],
   "source": []
  },
  {
   "cell_type": "code",
   "execution_count": null,
   "metadata": {},
   "outputs": [],
   "source": [
    "#Fix the runs where the orbit number resets (the warning does not matter)\n",
    "\n",
    "for df in dfs:\n",
    "    if not df['orbit'].is_monotonic:\n",
    "        for i in range(1,len(df)):\n",
    "            if df['orbit'][i-1]>df['orbit'][i]:\n",
    "                tmp = i-1\n",
    "                break\n",
    "        df['orbit'][tmp:] = df['orbit'][tmp-1] + df['orbit'][tmp:]\n",
    "            "
   ]
  },
  {
   "cell_type": "code",
   "execution_count": null,
   "metadata": {},
   "outputs": [],
   "source": [
    "# The bad runs were manually chosen\n",
    "badruns = [0, 1, 4, 8, 9, 11, 28, 30, 33, 34, 35, 36, 39, 46, 47, 50,  57, 65, 68, 69, 70, 72, 77, 78]\n",
    "goodruns = [i for i in range(len(dfs)) if i not in badruns]"
   ]
  },
  {
   "cell_type": "code",
   "execution_count": null,
   "metadata": {},
   "outputs": [],
   "source": [
    "dfg = [] #data frame with only goodruns\n",
    "\n",
    "for i in range(len(dfs)):\n",
    "    if i in goodruns : dfg.append(dfs[i])"
   ]
  },
  {
   "cell_type": "code",
   "execution_count": null,
   "metadata": {},
   "outputs": [],
   "source": [
    "dif = []\n",
    "\n",
    "for j in dfg:\n",
    "    k=np.zeros(len(dfg[j]))\n",
    "    for i in range(len(dfg[j])):\n",
    "        if i == 0: k[i] = 0\n",
    "        else: k[i] = dfg[j]['orbit'][i]-dfg[j]['orbit'][i-1]\n",
    "\n",
    "    dif.append(k)"
   ]
  },
  {
   "cell_type": "code",
   "execution_count": null,
   "metadata": {
    "scrolled": true
   },
   "outputs": [],
   "source": [
    "# Make the orbit run for every data frame start from 1\n",
    "for j in dfg:\n",
    "    dfg[j]['orbit'][0] = 1\n",
    "    for i in range(1, len(dfg[j])):\n",
    "        dfg[j]['orbit'][i] = dfg[j]['orbit'][i-1]+dif[j][i]"
   ]
  },
  {
   "cell_type": "code",
   "execution_count": null,
   "metadata": {},
   "outputs": [],
   "source": [
    "for j in dfg:\n",
    "    if j>0:\n",
    "        dfg[j]['orbit']+=dfg[j-1]['orbit'].tolist()[-1]"
   ]
  },
  {
   "cell_type": "code",
   "execution_count": null,
   "metadata": {},
   "outputs": [],
   "source": [
    "merged = pd.concat([dfg[23], dfg[24]], ignore_index=True, sort=False)\n"
   ]
  },
  {
   "cell_type": "code",
   "execution_count": null,
   "metadata": {},
   "outputs": [],
   "source": [
    "plt.scatter([i for i in range(len(merged))],merged['orbit'])\n",
    "\n",
    "#this lonely dot needs a fix"
   ]
  },
  {
   "cell_type": "code",
   "execution_count": null,
   "metadata": {},
   "outputs": [],
   "source": [
    "# for each orbit, we dump in the CSV 110 BX's (= bxMax - bxMin) that 'sit' in the LHC abort gap (end of the train)\n",
    "# that is, each orbit in the CSV corresponds to 110*24.95 ns of active recorded time, due to our selection made \n",
    "# (we dump in CSV only a part of each orbit during the LHC abort gap)\n",
    "timePerOrbit = 110*24.95\n",
    "print('timePerOrbit %2.1f ns '%timePerOrbit)\n",
    "\n",
    "timeUnit = 0.2*1e9 # desired time unit in seconds\n",
    "orbitsPerTimeUnit = timeUnit/timePerOrbit\n",
    "print('orbitsPerTimeUnit = %2.3f'%orbitsPerTimeUnit)\n",
    "\n",
    "\n",
    "\n",
    "\n",
    "\n",
    "orbitMin  = merged['orbit'][:1].values[0]\n",
    "orbitMax  = merged['orbit'][-1:].values[0] \n",
    "rectime   = (orbitMax-orbitMin)*timePerOrbit # in ns\n",
    "print('orbitMin %d orbitMax %d'%(orbitMin, orbitMax))\n",
    "print('nOrbits %d '%(orbitMax - orbitMin))\n",
    "print('total recording time %2.4f ns (~= %2.1f s)' %(rectime, rectime*1.e-9))\n",
    "\n",
    "bins=int((orbitMax-orbitMin)/orbitsPerTimeUnit) \n",
    "timePerBin = rectime/bins\n",
    "\n",
    "muons=np.zeros(bins)\n",
    "sclice=np.array([merged['orbit'].min()+ ((merged['orbit'].max()-merged['orbit'].min())/bins)*i for i in range(bins+1)])\n",
    "for orbit in merged['orbit']:\n",
    "    for i in range(bins):\n",
    "        if(orbit >= sclice[i] and orbit < sclice[i+1]): # note the >=, the = is needed to capture first orbit\n",
    "            muons[i]+=1\n",
    "        if(orbit == orbitMax and orbit == sclice[i+1]): # note the ==, is needed to capture last orbit\n",
    "                                                        # last bin is [leftedge,rightedge] and not [leftedge,rightedge)\n",
    "                muons[i]+=1\n"
   ]
  },
  {
   "cell_type": "code",
   "execution_count": null,
   "metadata": {},
   "outputs": [],
   "source": [
    "maxBins = 70\n",
    "plt.figure(figsize=(5,5))\n",
    "binCounts, bin_edges, patches = plt.hist(muons, bins= [i for i in range(maxBins)], histtype = 'bar', ec='black', density = False)\n",
    "plt.xlabel('nMuons / %2.1f s'%(timePerBin*1.e-9)) # latex can be entered in the label's string\n",
    "plt.ylabel('counts')\n",
    "plt.show()"
   ]
  },
  {
   "cell_type": "code",
   "execution_count": null,
   "metadata": {},
   "outputs": [],
   "source": []
  }
 ],
 "metadata": {
  "kernelspec": {
   "display_name": "Python 3",
   "language": "python",
   "name": "python3"
  },
  "language_info": {
   "codemirror_mode": {
    "name": "ipython",
    "version": 3
   },
   "file_extension": ".py",
   "mimetype": "text/x-python",
   "name": "python",
   "nbconvert_exporter": "python",
   "pygments_lexer": "ipython3",
   "version": "3.7.3"
  }
 },
 "nbformat": 4,
 "nbformat_minor": 2
}
